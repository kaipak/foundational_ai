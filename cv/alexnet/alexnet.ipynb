{
 "cells": [
  {
   "cell_type": "code",
   "execution_count": 7,
   "id": "fac23179-400d-4588-aa9f-a4d9db53c177",
   "metadata": {},
   "outputs": [
    {
     "name": "stdout",
     "output_type": "stream",
     "text": [
      "Using cuda device\n"
     ]
    }
   ],
   "source": [
    "import torch\n",
    "import torchvision\n",
    "import torchvision.transforms as transforms\n",
    "import torch.nn as nn\n",
    "import torch.nn.functional as F\n",
    "from torch.utils.data import DataLoader\n",
    "from torchvision import datasets, transforms\n",
    "\n",
    "device = (\n",
    "    \"cuda\"\n",
    "    if torch.cuda.is_available()\n",
    "    else \"mps\"\n",
    "    if torch.backends.mps.is_available()\n",
    "    else \"cpu\"\n",
    ")\n",
    "print(f\"Using {device} device\")"
   ]
  },
  {
   "cell_type": "markdown",
   "id": "2248bef3-22da-4249-856f-3f9f6f2215e2",
   "metadata": {},
   "source": [
    "![Alexnet](../../media/alexnet_arch.png)"
   ]
  },
  {
   "cell_type": "code",
   "execution_count": 8,
   "id": "6a310374-10e9-420e-ba4b-6e5a063eeab2",
   "metadata": {},
   "outputs": [],
   "source": [
    "class AlexNet(nn.Module):\n",
    "    \n",
    "    def __init__(self, n_inputs):\n",
    "        super(AlexNet, self).__init__()\n",
    "        self.conv1 = nn.Conv2d(in_channels=3,  out_channels=96, kernel_size=(11, 11),\n",
    "                               stride=4)\n",
    "        self.maxpool1 = nn.MaxPool2d\n",
    "        self.conv2 = nn.Conv2d(in_channels=48, out_channels=256, kernel_size=(5, 5),\n",
    "                               \n",
    "\n",
    "    def forward(self, x):\n",
    "        \n",
    "        "
   ]
  },
  {
   "cell_type": "code",
   "execution_count": null,
   "id": "11d20661-e54d-4453-8a59-4e2a3bf4fa9b",
   "metadata": {},
   "outputs": [],
   "source": [
    "# dataset loader"
   ]
  }
 ],
 "metadata": {
  "kernelspec": {
   "display_name": "Python 3 (ipykernel)",
   "language": "python",
   "name": "python3"
  },
  "language_info": {
   "codemirror_mode": {
    "name": "ipython",
    "version": 3
   },
   "file_extension": ".py",
   "mimetype": "text/x-python",
   "name": "python",
   "nbconvert_exporter": "python",
   "pygments_lexer": "ipython3",
   "version": "3.12.1"
  }
 },
 "nbformat": 4,
 "nbformat_minor": 5
}
